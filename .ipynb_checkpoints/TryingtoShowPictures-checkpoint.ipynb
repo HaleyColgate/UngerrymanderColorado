{
 "cells": [
  {
   "cell_type": "code",
   "execution_count": 1,
   "metadata": {},
   "outputs": [],
   "source": [
    "import csv\n",
    "import os\n",
    "from functools import partial\n",
    "import json\n",
    "\n",
    "import geopandas as gpd\n",
    "import matplotlib.pyplot as plt\n",
    "\n",
    "from gerrychain import (\n",
    "    Election,\n",
    "    Graph,\n",
    "    MarkovChain,\n",
    "    Partition,\n",
    "    accept,\n",
    "    constraints,\n",
    "    updaters,\n",
    ")\n",
    "from gerrychain.metrics import efficiency_gap, mean_median\n",
    "from gerrychain.proposals import recom\n",
    "from gerrychain.updaters import cut_edges\n",
    "from gerrychain.tree import recursive_tree_part"
   ]
  },
  {
   "cell_type": "code",
   "execution_count": 2,
   "metadata": {},
   "outputs": [],
   "source": [
    "path = \"./CompleteCOwithDemographics.shp\""
   ]
  },
  {
   "cell_type": "code",
   "execution_count": 3,
   "metadata": {},
   "outputs": [],
   "source": [
    "graph = Graph.from_file(path)"
   ]
  },
  {
   "cell_type": "code",
   "execution_count": 4,
   "metadata": {},
   "outputs": [],
   "source": [
    "df = gpd.read_file(path)"
   ]
  },
  {
   "cell_type": "code",
   "execution_count": 5,
   "metadata": {},
   "outputs": [],
   "source": [
    "newdir = \"./TryingtoShowPictures/\"\n",
    "os.makedirs(os.path.dirname(newdir + \"init.txt\"), exist_ok=True)\n",
    "with open(newdir + \"init.txt\", \"w\") as f:\n",
    "    f.write(\"Created Folder\")"
   ]
  },
  {
   "cell_type": "code",
   "execution_count": 6,
   "metadata": {},
   "outputs": [],
   "source": [
    "unique_label = \"VTDSD\"\n",
    "census_pop = \"Sum_POP2_1\"\n",
    "pop_est = \"Sum_block_\"\n",
    "congress = \"CD116FP\"\n",
    "senate = \"SLDUST\"\n",
    "house = \"SLDLST\"\n",
    "county_col = \"COUNTYFP\"\n",
    "\n",
    "num_elections = 5\n",
    "election_names = [\n",
    "    \"AG18\",\n",
    "    \"SEC18\",\n",
    "    \"TRE18\",\n",
    "    \"GOV18\",\n",
    "    \"REG18\",\n",
    "]\n",
    "election_columns = [\n",
    "    [\"AG_DEM18\", \"AG_REP18\"],\n",
    "    [\"SEC_DEM18\", \"SEC_REP18\"],\n",
    "    [\"TRE_DEM18\", \"TRE_REP18\"],\n",
    "    [\"GOV_DEM18\", \"GOV_REP18\"],\n",
    "    [\"REG_DEM18\", \"REG_REP18\"],\n",
    "]\n",
    "\n",
    "num_districts = 7"
   ]
  },
  {
   "cell_type": "code",
   "execution_count": null,
   "metadata": {},
   "outputs": [],
   "source": [
    "def num_splits(partition, level = county_col):\n",
    "    df[\"current\"] = df[unique_label].map(dict(partition.assignment))\n",
    "    splits = sum(df.groupby(level)[\"current\"].nunique() > 1)\n",
    "    return splits"
   ]
  },
  {
   "cell_type": "code",
   "execution_count": 7,
   "metadata": {},
   "outputs": [],
   "source": [
    "updaters = {\n",
    "    \"population\": updaters.Tally(census_pop, alias=\"population\"),\n",
    "    \"cut_edges\": cut_edges,\n",
    "}\n",
    "\n",
    "elections = [\n",
    "    Election(\n",
    "        election_names[i],\n",
    "        {\"Democratic\": election_columns[i][0], \"Republican\": election_columns[i][1]},\n",
    "    )\n",
    "    for i in range(num_elections)\n",
    "]\n",
    "\n",
    "election_updaters = {election.name: election for election in elections}\n",
    "\n",
    "updaters.update(election_updaters)"
   ]
  },
  {
   "cell_type": "code",
   "execution_count": 8,
   "metadata": {},
   "outputs": [],
   "source": [
    "enacted_partition = Partition(graph, senate, updaters)\n",
    "ideal_population = sum(enacted_partition['population'].values()) / len(enacted_partition)"
   ]
  },
  {
   "cell_type": "code",
   "execution_count": 12,
   "metadata": {},
   "outputs": [],
   "source": [
    "cddict = recursive_tree_part(graph, range(num_districts), ideal_population, census_pop, .001, 1)\n",
    "\n",
    "df['random'] = df.index.map(cddict)\n",
    "\n",
    "df.plot(column = 'random', cmap = 'jet')\n",
    "plt.savefig(newdir + 'random.png')\n",
    "plt.close()\n",
    "\n",
    "with open(newdir + 'random.json', 'w') as jf1:\n",
    "    json.dump(cddict, jf1)"
   ]
  },
  {
   "cell_type": "code",
   "execution_count": 15,
   "metadata": {},
   "outputs": [],
   "source": [
    "df.plot(column = senate, cmap = 'jet')\n",
    "plt.savefig(newdir + 'senate.png')\n",
    "plt.close()\n",
    "\n",
    "df.plot(column = house, cmap = 'jet')\n",
    "plt.savefig(newdir + 'house.png')\n",
    "plt.close()\n",
    "\n",
    "df.plot(column = congress, cmap = 'jet')\n",
    "plt.savefig(newdir + 'congress.png')\n",
    "plt.close()"
   ]
  },
  {
   "cell_type": "code",
   "execution_count": null,
   "metadata": {},
   "outputs": [],
   "source": []
  }
 ],
 "metadata": {
  "kernelspec": {
   "display_name": "Python 3",
   "language": "python",
   "name": "python3"
  },
  "language_info": {
   "codemirror_mode": {
    "name": "ipython",
    "version": 3
   },
   "file_extension": ".py",
   "mimetype": "text/x-python",
   "name": "python",
   "nbconvert_exporter": "python",
   "pygments_lexer": "ipython3",
   "version": "3.7.3"
  }
 },
 "nbformat": 4,
 "nbformat_minor": 2
}
