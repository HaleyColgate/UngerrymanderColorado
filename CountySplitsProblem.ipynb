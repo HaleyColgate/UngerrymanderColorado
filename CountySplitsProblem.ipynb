{
 "cells": [
  {
   "cell_type": "code",
   "execution_count": 22,
   "metadata": {},
   "outputs": [],
   "source": [
    "import random\n",
    "\n",
    "import matplotlib.pyplot as plt\n",
    "from functools import partial\n",
    "import networkx as nx\n",
    "\n",
    "from gerrychain import MarkovChain\n",
    "from gerrychain.constraints import (\n",
    "    Validator,\n",
    "    single_flip_contiguous,\n",
    "    within_percent_of_ideal_population,\n",
    ")\n",
    "from gerrychain.proposals import propose_random_flip\n",
    "from gerrychain.accept import always_accept\n",
    "from gerrychain.updaters import Election, Tally, cut_edges, county_splits\n",
    "from gerrychain.partition import Partition\n",
    "from gerrychain.proposals import recom\n",
    "from gerrychain.metrics import mean_median, efficiency_gap\n",
    "\n",
    "import pandas as pd"
   ]
  },
  {
   "cell_type": "code",
   "execution_count": 16,
   "metadata": {},
   "outputs": [],
   "source": [
    "gn = 2\n",
    "k = 2\n",
    "ns = 75\n",
    "p = 0.5\n",
    "\n",
    "graph = nx.grid_graph([k * gn, k * gn])\n",
    "\n",
    "\n",
    "for n in graph.nodes():\n",
    "    graph.node[n][\"population\"] = 1\n",
    "\n",
    "    if random.random() < p:\n",
    "        graph.node[n][\"pink\"] = 1\n",
    "        graph.node[n][\"purple\"] = 0\n",
    "    else:\n",
    "        graph.node[n][\"pink\"] = 0\n",
    "        graph.node[n][\"purple\"] = 1\n",
    "    if 0 in n or k * gn - 1 in n:\n",
    "        graph.node[n][\"boundary_node\"] = True\n",
    "        graph.node[n][\"boundary_perim\"] = 1\n",
    "\n",
    "    else:\n",
    "        graph.node[n][\"boundary_node\"] = False\n"
   ]
  },
  {
   "cell_type": "code",
   "execution_count": 17,
   "metadata": {},
   "outputs": [],
   "source": [
    "for n in range(4):\n",
    "    for m in range(2):\n",
    "        graph.node[(n,m)]['county'] = 0\n",
    "    for m in [2,3]:\n",
    "        graph.node[(n,m)]['county'] = 1"
   ]
  },
  {
   "cell_type": "code",
   "execution_count": 18,
   "metadata": {},
   "outputs": [],
   "source": [
    "cddict = {x: int(x[0] / gn) for x in graph.nodes()}"
   ]
  },
  {
   "cell_type": "code",
   "execution_count": 19,
   "metadata": {},
   "outputs": [
    {
     "data": {
      "image/png": "[encoded data removed]",
      "text/plain": [
       "<Figure size 432x288 with 1 Axes>"
      ]
     },
     "metadata": {},
     "output_type": "display_data"
    },
    {
     "data": {
      "image/png": "[encoded data removed]",
      "text/plain": [
       "<Figure size 432x288 with 1 Axes>"
      ]
     },
     "metadata": {},
     "output_type": "display_data"
    },
    {
     "data": {
      "image/png": "[encoded data removed]",
      "text/plain": [
       "<Figure size 432x288 with 1 Axes>"
      ]
     },
     "metadata": {},
     "output_type": "display_data"
    },
    {
     "data": {
      "image/png": "[encoded data removed]",
      "text/plain": [
       "<Figure size 432x288 with 1 Axes>"
      ]
     },
     "metadata": {},
     "output_type": "display_data"
    }
   ],
   "source": [
    "plt.figure()\n",
    "nx.draw(graph, pos={x: x for x in graph.nodes()}, node_size=ns, node_shape=\"s\")\n",
    "plt.show()\n",
    "\n",
    "cdict = {1: \"pink\", 0: \"purple\"}\n",
    "\n",
    "plt.figure()\n",
    "nx.draw(\n",
    "    graph,\n",
    "    pos={x: x for x in graph.nodes()},\n",
    "    node_color=[cdict[graph.node[x][\"pink\"]] for x in graph.nodes()],\n",
    "    node_size=ns,\n",
    "    node_shape=\"s\",\n",
    ")\n",
    "plt.show()\n",
    "\n",
    "countycolor = {1: 'green', 0: 'orange'}\n",
    "plt.figure()\n",
    "nx.draw(graph, \n",
    "        pos={x: x for x in graph.nodes()}, \n",
    "        node_color = [countycolor[graph.node[x]['county']] for x in graph.nodes()],\n",
    "        node_size = ns,\n",
    "        node_shape = '*'\n",
    "       )\n",
    "plt.show()\n",
    "\n",
    "plt.figure()\n",
    "nx.draw(\n",
    "    graph,\n",
    "    pos={x: x for x in graph.nodes()},\n",
    "    node_color=[cddict[x] for x in graph.nodes()],\n",
    "    node_size=ns,\n",
    "    node_shape=\"s\",\n",
    "    cmap=\"tab20\",\n",
    ")\n",
    "plt.show()"
   ]
  },
  {
   "cell_type": "code",
   "execution_count": 20,
   "metadata": {},
   "outputs": [],
   "source": [
    "def step_num(partition):\n",
    "    parent = partition.parent\n",
    "    if not parent:\n",
    "        return 0\n",
    "    return parent[\"step_num\"] + 1\n",
    "\n",
    "\n",
    "updaters = {\n",
    "    \"population\": Tally(\"population\"),\n",
    "    \"cut_edges\": cut_edges,\n",
    "    \"step_num\": step_num,\n",
    "    \"Pink-Purple\": Election(\"Pink-Purple\", {\"Pink\": \"pink\", \"Purple\": \"purple\"}),\n",
    "}"
   ]
  },
  {
   "cell_type": "code",
   "execution_count": 21,
   "metadata": {},
   "outputs": [],
   "source": [
    "grid_partition = Partition(graph, assignment=cddict, updaters=updaters)"
   ]
  },
  {
   "cell_type": "code",
   "execution_count": 29,
   "metadata": {},
   "outputs": [],
   "source": [
    "data = []\n",
    "for i in range(16):\n",
    "    data.append([])\n",
    "nodes = []\n",
    "for m in range(4):\n",
    "    for n in range(4):\n",
    "        nodes.append((m,n))\n",
    "for i in range(16):\n",
    "    data[i].append(nodes[i])\n",
    "    data[i].append(graph.node[data[i][0]]['pink'])\n",
    "    data[i].append(graph.node[data[i][0]]['purple'])\n",
    "    data[i].append(graph.node[data[i][0]]['county'])\n",
    "    \n",
    "columns = ['node', 'pink', 'purple', 'county']"
   ]
  },
  {
   "cell_type": "code",
   "execution_count": 31,
   "metadata": {},
   "outputs": [],
   "source": [
    "df = pd.DataFrame(data, columns = columns)"
   ]
  },
  {
   "cell_type": "code",
   "execution_count": 36,
   "metadata": {},
   "outputs": [],
   "source": [
    "county_field_name = 'county'\n",
    "unique_label = 'node'\n",
    "def num_splits(partition, df=df, level = county_field_name):\n",
    "    df[\"current\"] = df[unique_label].map(dict(partition.assignment))\n",
    "    splits = sum(df.groupby(level)[\"current\"].nunique() > 1)\n",
    "    return splits\n",
    "#splits_constraint = SelfConfiguringUpperBound(num_splits)"
   ]
  },
  {
   "cell_type": "code",
   "execution_count": 37,
   "metadata": {},
   "outputs": [
    {
     "data": {
      "text/plain": [
       "2"
      ]
     },
     "execution_count": 37,
     "metadata": {},
     "output_type": "execute_result"
    }
   ],
   "source": [
    "num_splits(grid_partition)"
   ]
  },
  {
   "cell_type": "code",
   "execution_count": null,
   "metadata": {},
   "outputs": [],
   "source": []
  }
 ],
 "metadata": {
  "kernelspec": {
   "display_name": "Python 3",
   "language": "python",
   "name": "python3"
  },
  "language_info": {
   "codemirror_mode": {
    "name": "ipython",
    "version": 3
   },
   "file_extension": ".py",
   "mimetype": "text/x-python",
   "name": "python",
   "nbconvert_exporter": "python",
   "pygments_lexer": "ipython3",
   "version": "3.7.3"
  }
 },
 "nbformat": 4,
 "nbformat_minor": 2
}
