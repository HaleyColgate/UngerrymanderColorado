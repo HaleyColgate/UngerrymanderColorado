{
 "cells": [
  {
   "cell_type": "markdown",
   "metadata": {},
   "source": [
    "Importing Useful Stuff"
   ]
  },
  {
   "cell_type": "code",
   "execution_count": 1,
   "metadata": {},
   "outputs": [],
   "source": [
    "import csv\n",
    "import os\n",
    "from functools import partial\n",
    "import json\n",
    "\n",
    "import geopandas as gpd\n",
    "import matplotlib.pyplot as plt\n",
    "\n",
    "from gerrychain import (\n",
    "    Election,\n",
    "    Graph,\n",
    "    MarkovChain,\n",
    "    Partition,\n",
    "    accept,\n",
    "    constraints,\n",
    "    updaters,\n",
    ")\n",
    "from gerrychain.metrics import efficiency_gap, mean_median, polsby_popper\n",
    "from gerrychain.proposals import recom\n",
    "from gerrychain.updaters import cut_edges, county_splits\n",
    "from gerrychain.tree import recursive_tree_part\n",
    "from gerrychain.constraints import SelfConfiguringUpperBound, SelfConfiguringLowerBound\n",
    "from gerrychain.partition import GeographicPartition"
   ]
  },
  {
   "cell_type": "markdown",
   "metadata": {},
   "source": [
    "Creating a path so I don't have to keep typing it, creating my dataframe and my graph (doing a graph this way is super slow so it's in its own cell so I don't have to rerun the cell very often)"
   ]
  },
  {
   "cell_type": "code",
   "execution_count": 2,
   "metadata": {},
   "outputs": [],
   "source": [
    "path = \"./CompleteCOwithDemographics.shp\"\n",
    "ourjson = './CompleteCOwithDemographics.json'\n",
    "df = gpd.read_file(path)"
   ]
  },
  {
   "cell_type": "code",
   "execution_count": 3,
   "metadata": {},
   "outputs": [],
   "source": [
    "#graph = Graph.from_file(path)\n",
    "graph = Graph.from_json(ourjson)"
   ]
  },
  {
   "cell_type": "code",
   "execution_count": 4,
   "metadata": {},
   "outputs": [],
   "source": [
    "#graph.to_json('./CompleteCOwithDemographics.json')"
   ]
  },
  {
   "cell_type": "markdown",
   "metadata": {},
   "source": [
    "Creating a file to save all the data from so stuff doesn't get cluttered."
   ]
  },
  {
   "cell_type": "code",
   "execution_count": 4,
   "metadata": {},
   "outputs": [],
   "source": [
    "newdir = \"./PACongressReplicaSimpleOutput3/\"\n",
    "os.makedirs(os.path.dirname(newdir + \"init.txt\"), exist_ok=True)\n",
    "with open(newdir + \"init.txt\", \"w\") as f:\n",
    "    f.write(\"Created Folder\")"
   ]
  },
  {
   "cell_type": "markdown",
   "metadata": {},
   "source": [
    "Giving it information about the shapefile columns and elections and what not"
   ]
  },
  {
   "cell_type": "code",
   "execution_count": 5,
   "metadata": {},
   "outputs": [],
   "source": [
    "unique_label = \"VTDSD\"\n",
    "census_pop = \"Sum_POP2_1\"\n",
    "#pop_est = \"Sum_block_\" this is awful for whatever reason and needs updating\n",
    "congress = \"CD116FP\"\n",
    "senate = \"SLDUST\"\n",
    "house = \"SLDLST\"\n",
    "county_field_name = \"COUNTYFP\"\n",
    "\n",
    "num_elections = 5\n",
    "election_names = [\n",
    "    \"AG18\",\n",
    "    \"SEC18\",\n",
    "    \"TRE18\",\n",
    "    \"GOV18\",\n",
    "    \"REG18\",\n",
    "]\n",
    "election_columns = [\n",
    "    [\"AG_DEM18\", \"AG_REP18\"],\n",
    "    [\"SEC_DEM18\", \"SEC_REP18\"],\n",
    "    [\"TRE_DEM18\", \"TRE_REP18\"],\n",
    "    [\"GOV_DEM18\", \"GOV_REP18\"],\n",
    "    [\"REG_DEM18\", \"REG_REP18\"],\n",
    "]\n",
    "\n",
    "num_districts = 7"
   ]
  },
  {
   "cell_type": "code",
   "execution_count": 6,
   "metadata": {},
   "outputs": [],
   "source": [
    "############ Why this isn't an updater I'm not entirely sure...  UPDATE: It is now as far as I'm concerned\n",
    "def num_splits(partition, df=df, level = county_field_name):\n",
    "    df[\"current\"] = df[unique_label].map(dict(partition.assignment))\n",
    "    splits = sum(df.groupby(level)[\"current\"].nunique() > 1)\n",
    "    return splits\n",
    "splits_constraint = SelfConfiguringUpperBound(num_splits)"
   ]
  },
  {
   "cell_type": "code",
   "execution_count": 7,
   "metadata": {},
   "outputs": [],
   "source": [
    "def polsby_popper_average(partition):\n",
    "    total = 0\n",
    "    size = 0\n",
    "    dictionary = polsby_popper(partition)\n",
    "    for part in partition.parts:\n",
    "        item = dictionary[part]\n",
    "        inverse = 1 / item\n",
    "        total += inverse\n",
    "        size += 1\n",
    "    return total / size"
   ]
  },
  {
   "cell_type": "code",
   "execution_count": 8,
   "metadata": {},
   "outputs": [],
   "source": [
    "polsby_popper_constraint = SelfConfiguringUpperBound(polsby_popper_average)"
   ]
  },
  {
   "cell_type": "code",
   "execution_count": 9,
   "metadata": {},
   "outputs": [],
   "source": [
    "myupdaters = {\n",
    "    \"population\": updaters.Tally(census_pop, alias=\"population\"),\n",
    "    \"cut_edges\": cut_edges,\n",
    "    \"county_splits\": num_splits,\n",
    "    \"polsby_popper\": polsby_popper,\n",
    "    \"polsby_popper_average\": polsby_popper_average\n",
    "}\n",
    "\n",
    "elections = [\n",
    "    Election(\n",
    "        election_names[i],\n",
    "        {\"Democratic\": election_columns[i][0], \"Republican\": election_columns[i][1]},\n",
    "    )\n",
    "    for i in range(num_elections)\n",
    "]\n",
    "\n",
    "election_updaters = {election.name: election for election in elections}\n",
    "\n",
    "myupdaters.update(election_updaters)"
   ]
  },
  {
   "cell_type": "code",
   "execution_count": 10,
   "metadata": {},
   "outputs": [
    {
     "name": "stdout",
     "output_type": "stream",
     "text": [
      "718456.5714285715\n"
     ]
    }
   ],
   "source": [
    "enacted_partition = GeographicPartition(graph = graph, assignment = congress, updaters = myupdaters)\n",
    "ideal_population = sum(enacted_partition['population'].values()) / len(enacted_partition)\n",
    "print(ideal_population)\n",
    "\n",
    "### This is how you create a random starting seed\n",
    "#cddict = recursive_tree_part(graph, range(num_districts), ideal_population, census_pop, .001, 1)\n",
    "\n",
    "#df['random'] = df.index.map(cddict)\n",
    "\n",
    "#df.plot(column = 'random', cmap = 'jet')\n",
    "#plt.savefig(newdir + 'random.png')\n",
    "#plt.close()\n",
    "\n",
    "#with open(newdir + 'random.json', 'w') as jf1:\n",
    "#    json.dump(cddict, jf1)\n",
    "    \n",
    "#random_partition = Partition(graph, cddict, updaters)\n",
    "\n",
    "chosen_partition = enacted_partition"
   ]
  },
  {
   "cell_type": "code",
   "execution_count": 11,
   "metadata": {},
   "outputs": [
    {
     "name": "stdout",
     "output_type": "stream",
     "text": [
      "District 04: 718435.0\n",
      "District 05: 718488.0\n",
      "District 03: 718719.0\n",
      "District 01: 717094.0\n",
      "District 06: 718460.0\n",
      "District 02: 718377.0\n",
      "District 07: 719623.0\n"
     ]
    }
   ],
   "source": [
    "for district, pop in chosen_partition[\"population\"].items():\n",
    "    print(\"District {}: {}\".format(district, pop))"
   ]
  },
  {
   "cell_type": "code",
   "execution_count": 20,
   "metadata": {},
   "outputs": [
    {
     "name": "stdout",
     "output_type": "stream",
     "text": [
      "AxesSubplot(0.125,0.170331;0.775x0.664339)\n"
     ]
    },
    {
     "data": {
      "image/png": "[encoded data removed]",
      "text/plain": [
       "<Figure size 432x288 with 1 Axes>"
      ]
     },
     "metadata": {
      "needs_background": "light"
     },
     "output_type": "display_data"
    }
   ],
   "source": [
    "#print(df.plot(column = 'random', cmap = 'jet'))\n",
    "print(df.plot(column = congress, cmap = 'jet'))"
   ]
  },
  {
   "cell_type": "code",
   "execution_count": 11,
   "metadata": {},
   "outputs": [],
   "source": [
    "proposal = partial(\n",
    "    recom, pop_col=census_pop, pop_target=ideal_population, epsilon=0.02, node_repeats=2\n",
    ")"
   ]
  },
  {
   "cell_type": "code",
   "execution_count": 12,
   "metadata": {},
   "outputs": [],
   "source": [
    "chain = MarkovChain(\n",
    "    proposal=proposal,\n",
    "    constraints=[\n",
    "        constraints.within_percent_of_ideal_population(enacted_partition, 0.01),\n",
    "        polsby_popper_constraint, \n",
    "        splits_constraint, \n",
    "        constraints.contiguous # single_flip_contiguous#no_more_discontiguous\n",
    "    ],\n",
    "    accept=accept.always_accept,\n",
    "    initial_state=chosen_partition,\n",
    "    total_steps=1000,\n",
    ")"
   ]
  },
  {
   "cell_type": "code",
   "execution_count": 13,
   "metadata": {},
   "outputs": [],
   "source": [
    "with open(newdir + \"Start_Values.txt\", \"w\") as f:\n",
    "    f.write(\"Values for Starting Plan: Random Plan\\n \\n \")\n",
    "    f.write(\"Initial Cut: \" + str(len(chosen_partition[\"cut_edges\"])))\n",
    "    f.write(\"\\n\")\n",
    "    f.write(\"\\n\")\n",
    "    f.write(\"Initial County Splits: \" + str(num_splits(chosen_partition)))\n",
    "    f.write(\"\\n\")\n",
    "    f.write(\"\\n\")\n",
    "    f.write(\"Initial Polsby-Popper: \" + str(polsby_popper(chosen_partition)))\n",
    "    f.write(\"\\n\")\n",
    "    f.write(\"\\n\")\n",
    "    f.write(\"Initial Polsby-Popper Inverse Average: \" + str(polsby_popper_average(chosen_partition)))\n",
    "    f.write(\"\\n\")\n",
    "    f.write(\"\\n\")\n",
    "\n",
    "    for elect in range(num_elections):\n",
    "        f.write(\n",
    "            election_names[elect]\n",
    "            + \"District Percentages\"\n",
    "            + str(\n",
    "                sorted(chosen_partition[election_names[elect]].percents(\"Democratic\"))\n",
    "            )\n",
    "        )\n",
    "        f.write(\"\\n\")\n",
    "        f.write(\"\\n\")\n",
    "\n",
    "        f.write(\n",
    "            election_names[elect]\n",
    "            + \"Mean-Median :\"\n",
    "            + str(mean_median(chosen_partition[election_names[elect]]))\n",
    "        )\n",
    "\n",
    "        f.write(\"\\n\")\n",
    "        f.write(\"\\n\")\n",
    "\n",
    "        f.write(\n",
    "            election_names[elect]\n",
    "            + \"Efficiency Gap :\"\n",
    "            + str(efficiency_gap(chosen_partition[election_names[elect]]))\n",
    "        )\n",
    "\n",
    "        f.write(\"\\n\")\n",
    "        f.write(\"\\n\")\n",
    "\n",
    "        f.write(\n",
    "            election_names[elect]\n",
    "            + \"How Many Seats :\"\n",
    "            + str(chosen_partition[election_names[elect]].wins(\"Democratic\"))\n",
    "        )\n",
    "\n",
    "        f.write(\"\\n\")\n",
    "        f.write(\"\\n\")"
   ]
  },
  {
   "cell_type": "code",
   "execution_count": 14,
   "metadata": {},
   "outputs": [
    {
     "name": "stdout",
     "output_type": "stream",
     "text": [
      "100\n",
      "200\n",
      "300\n",
      "400\n",
      "500\n",
      "600\n",
      "700\n",
      "800\n",
      "900\n",
      "1000\n"
     ]
    }
   ],
   "source": [
    "pop_vec = [] #population\n",
    "cut_vec = [] #cut edges\n",
    "votes = [[], [], [], [], []] #one list for each election\n",
    "mms = [] #mean median list of lists eventually\n",
    "egs = [] #efficiency gap list of lists eventually\n",
    "hmss = [] #democratic seat share\n",
    "pp = [] #polsby popper\n",
    "pp_avg = [] #inverse average polsby popper\n",
    "\n",
    "splits = []\n",
    "\n",
    "t = 0\n",
    "for part in chain:\n",
    "    splits.append(part['county_splits'])\n",
    "    pp.append(sorted(list(part['polsby_popper'].values())))\n",
    "    pp_avg.append(part['polsby_popper_average'])\n",
    "\n",
    "    pop_vec.append(sorted(list(part[\"population\"].values())))\n",
    "    cut_vec.append(len(part[\"cut_edges\"]))\n",
    "    mms.append([])\n",
    "    egs.append([])\n",
    "    hmss.append([])\n",
    "\n",
    "    for elect in range(num_elections):\n",
    "        votes[elect].append(sorted(part[election_names[elect]].percents(\"Democratic\")))\n",
    "        mms[-1].append(mean_median(part[election_names[elect]]))\n",
    "        egs[-1].append(efficiency_gap(part[election_names[elect]]))\n",
    "        hmss[-1].append(part[election_names[elect]].wins(\"Democratic\"))\n",
    "\n",
    "    t += 1\n",
    "    if t % 100 == 0:\n",
    "        print(t)\n",
    "        with open(newdir + \"mms\" + str(t) + \".csv\", \"w\") as tf1:\n",
    "            writer = csv.writer(tf1, lineterminator=\"\\n\")\n",
    "            writer.writerows(mms)\n",
    "            \n",
    "        with open(newdir + \"pp\" + str(t) + \".csv\", \"w\") as tf1:\n",
    "            writer = csv.writer(tf1, lineterminator=\"\\n\")\n",
    "            writer.writerows([pp])\n",
    "        \n",
    "        with open(newdir + \"pp_avg\" + str(t) + \".csv\", \"w\") as tf1:\n",
    "            writer = csv.writer(tf1, lineterminator=\"\\n\")\n",
    "            writer.writerows([pp_avg])\n",
    "\n",
    "        with open(newdir + \"egs\" + str(t) + \".csv\", \"w\") as tf1:\n",
    "            writer = csv.writer(tf1, lineterminator=\"\\n\")\n",
    "            writer.writerows(egs)\n",
    "\n",
    "        with open(newdir + \"hmss\" + str(t) + \".csv\", \"w\") as tf1:\n",
    "            writer = csv.writer(tf1, lineterminator=\"\\n\")\n",
    "            writer.writerows(hmss)\n",
    "\n",
    "        with open(newdir + \"pop\" + str(t) + \".csv\", \"w\") as tf1:\n",
    "            writer = csv.writer(tf1, lineterminator=\"\\n\")\n",
    "            writer.writerows(pop_vec)\n",
    "\n",
    "        with open(newdir + \"cuts\" + str(t) + \".csv\", \"w\") as tf1:\n",
    "            writer = csv.writer(tf1, lineterminator=\"\\n\")\n",
    "            writer.writerows([cut_vec])\n",
    "\n",
    "        with open(newdir + \"splits\" + str(t) + \".csv\", \"w\") as tf1:\n",
    "            writer = csv.writer(tf1, lineterminator=\"\\n\")\n",
    "            writer.writerows([splits])\n",
    "\n",
    "        with open(newdir + \"assignment\" + str(t) + \".json\", \"w\") as jf1:\n",
    "            json.dump(dict(part.assignment), jf1)\n",
    "\n",
    "        for elect in range(num_elections):\n",
    "            with open(\n",
    "                newdir + election_names[elect] + \"_\" + str(t) + \".csv\", \"w\"\n",
    "            ) as tf1:\n",
    "                writer = csv.writer(tf1, lineterminator=\"\\n\")\n",
    "                writer.writerows(votes[elect])\n",
    "\n",
    "        df[\"plot\" + str(t)] = df.index.map(dict(part.assignment))\n",
    "        df.plot(column=\"plot\" + str(t), cmap=\"jet\")\n",
    "        plt.savefig(newdir + \"plot\" + str(t) + \".png\")\n",
    "        plt.close()\n",
    "\n",
    "        votes = [[], [], [], [], []]\n",
    "        mms = []\n",
    "        egs = []\n",
    "        hmss = []\n",
    "        pop_vec = []\n",
    "        cut_vec = []\n",
    "        splits = []\n",
    "        pp = []\n",
    "        pp_avg = []"
   ]
  },
  {
   "cell_type": "code",
   "execution_count": null,
   "metadata": {},
   "outputs": [],
   "source": []
  }
 ],
 "metadata": {
  "kernelspec": {
   "display_name": "Python 3",
   "language": "python",
   "name": "python3"
  },
  "language_info": {
   "codemirror_mode": {
    "name": "ipython",
    "version": 3
   },
   "file_extension": ".py",
   "mimetype": "text/x-python",
   "name": "python",
   "nbconvert_exporter": "python",
   "pygments_lexer": "ipython3",
   "version": "3.7.3"
  }
 },
 "nbformat": 4,
 "nbformat_minor": 2
}
